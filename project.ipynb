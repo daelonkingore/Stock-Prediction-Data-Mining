{
 "cells": [
  {
   "cell_type": "code",
   "execution_count": 1,
   "metadata": {},
   "outputs": [],
   "source": [
    "# Authors: Daelon Kingore, Ashton Barnwell, Jacob Albrecht\n",
    "# Stock Market prediction using Data Mining/AI algorithms\n",
    "\n",
    "\n",
    "\"\"\"\n",
    "TODO: All the models all worse than a coin flip so if we can find a way to improve them or use better models that would be awesome,\n",
    "Find optimal parameters (k-values), better evaluation strategies, predict future stock prices \n",
    "and other cool predictions to show, create graphs of stocks and future prediciton, and probably more.\n",
    "\"\"\"\n",
    "\n",
    "\n",
    "import pandas as pd\n",
    "import numpy as np\n",
    "from sklearn.model_selection import train_test_split\n",
    "from sklearn.preprocessing import StandardScaler\n",
    "from sklearn.ensemble import RandomForestClassifier\n",
    "from sklearn.neighbors import KNeighborsClassifier\n",
    "from sklearn.naive_bayes import GaussianNB\n",
    "from sklearn.svm import LinearSVC\n",
    "from sklearn.metrics import accuracy_score\n",
    "\n",
    "# gather data from csv\n",
    "data = pd.read_csv('ORLY.csv')\n",
    "\n",
    "# drop unnecessary data (can maybe use it in some models but we'll see)\n",
    "data = data.drop([\"Adj Close\"], axis=1)\n",
    "data = data.drop([\"Date\"], axis=1)\n",
    "data = data.drop([\"Volume\"], axis=1)\n",
    "\n",
    "# standardize data to allow more efficient and accurate processing\n",
    "standardizer = StandardScaler()\n",
    "dataStandardized = standardizer.fit_transform(data)\n",
    "\n",
    "# find y by seeing if next day is up or down\n",
    "y = np.where(data[\"Close\"].shift(-1) > data[\"Close\"], \"Up\", \"Down\")\n",
    "\n",
    "# using the train test split function\n",
    "xTrain, xTest, yTrain, yTest = train_test_split(dataStandardized, y, test_size=0.25, shuffle=False)"
   ]
  },
  {
   "cell_type": "code",
   "execution_count": 2,
   "metadata": {},
   "outputs": [
    {
     "data": {
      "text/plain": [
       "0.4700854700854701"
      ]
     },
     "execution_count": 2,
     "metadata": {},
     "output_type": "execute_result"
    }
   ],
   "source": [
    "# Random Forest Model\n",
    "randomForests = RandomForestClassifier(random_state=0, n_jobs=-1)\n",
    "randomForestsModel = randomForests.fit(xTrain, yTrain)\n",
    "yRandomForestsPredict = randomForestsModel.predict(xTest)\n",
    "accuracy_score(yTest, yRandomForestsPredict)"
   ]
  },
  {
   "cell_type": "code",
   "execution_count": 3,
   "metadata": {},
   "outputs": [
    {
     "data": {
      "text/plain": [
       "0.463980463980464"
      ]
     },
     "execution_count": 3,
     "metadata": {},
     "output_type": "execute_result"
    }
   ],
   "source": [
    "# Naive Bayes\n",
    "classifier = GaussianNB()\n",
    "bayesModel = classifier.fit(xTrain, yTrain) # train\n",
    "yBayesPredict = bayesModel.predict(xTest)\n",
    "accuracy_score(yTest, yBayesPredict)"
   ]
  },
  {
   "cell_type": "code",
   "execution_count": 4,
   "metadata": {},
   "outputs": [
    {
     "data": {
      "text/plain": [
       "0.4713064713064713"
      ]
     },
     "execution_count": 4,
     "metadata": {},
     "output_type": "execute_result"
    }
   ],
   "source": [
    "# KNN\n",
    "knnModel = KNeighborsClassifier(n_neighbors=5, n_jobs=-1).fit(xTrain, yTrain) # need to look into the amount of neighbors and jobs\n",
    "yKnnPredict = knnModel.predict(xTest)\n",
    "accuracy_score(yTest, yKnnPredict)"
   ]
  },
  {
   "cell_type": "code",
   "execution_count": 5,
   "metadata": {},
   "outputs": [
    {
     "data": {
      "text/plain": [
       "0.4932844932844933"
      ]
     },
     "execution_count": 5,
     "metadata": {},
     "output_type": "execute_result"
    }
   ],
   "source": [
    "# SVM\n",
    "svc = LinearSVC(C=1.0) # support vector classifier\n",
    "svcModel = svc.fit(xTrain, yTrain)\n",
    "svcPredict = svcModel.predict(xTest)\n",
    "accuracy_score(yTest, svcPredict)"
   ]
  }
 ],
 "metadata": {
  "kernelspec": {
   "display_name": "Python 3",
   "language": "python",
   "name": "python3"
  },
  "language_info": {
   "codemirror_mode": {
    "name": "ipython",
    "version": 3
   },
   "file_extension": ".py",
   "mimetype": "text/x-python",
   "name": "python",
   "nbconvert_exporter": "python",
   "pygments_lexer": "ipython3",
   "version": "3.10.4"
  },
  "orig_nbformat": 4
 },
 "nbformat": 4,
 "nbformat_minor": 2
}
