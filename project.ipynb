{
 "cells": [
  {
   "cell_type": "code",
   "execution_count": 9,
   "metadata": {},
   "outputs": [
    {
     "name": "stdout",
     "output_type": "stream",
     "text": [
      "['Down' 'Down' 'Down' ... 'Up' 'Down' 'Down']\n"
     ]
    }
   ],
   "source": [
    "# Authors: Daelon Kingore, Ashton Barnwell, Jacob Albrecht\n",
    "# Stock Market prediction using Data Mining/AI algorithms\n",
    "import pandas as pd\n",
    "import numpy as np\n",
    "from sklearn.model_selection import train_test_split\n",
    "from sklearn.preprocessing import StandardScaler\n",
    "\n",
    "# gather data from csv\n",
    "data = pd.read_csv('ORLY.csv')\n",
    "\n",
    "# drop unnecessary data (can maybe use it in some models but not now)\n",
    "data = data.drop([\"Adj Close\"], axis=1)\n",
    "data = data.drop([\"Date\"], axis=1)\n",
    "data = data.drop([\"Volume\"], axis=1)\n",
    "\n",
    "# standardize data to allow more efficient and accurate processing\n",
    "standardizer = StandardScaler()\n",
    "dataStandardized = standardizer.fit_transform(data)\n",
    "\n",
    "# find y by seeing if next day is up or down\n",
    "y = np.where(data[\"Close\"].shift(-1) > data[\"Close\"], \"Up\", \"Down\")\n",
    "\n",
    "# using the train test split function\n",
    "xTrain, xTest, yTrain, yTest = train_test_split(dataStandardized, y, test_size=0.25, shuffle=False)\n",
    "\n"
   ]
  }
 ],
 "metadata": {
  "kernelspec": {
   "display_name": "Python 3",
   "language": "python",
   "name": "python3"
  },
  "language_info": {
   "codemirror_mode": {
    "name": "ipython",
    "version": 3
   },
   "file_extension": ".py",
   "mimetype": "text/x-python",
   "name": "python",
   "nbconvert_exporter": "python",
   "pygments_lexer": "ipython3",
   "version": "3.10.4"
  },
  "orig_nbformat": 4
 },
 "nbformat": 4,
 "nbformat_minor": 2
}
