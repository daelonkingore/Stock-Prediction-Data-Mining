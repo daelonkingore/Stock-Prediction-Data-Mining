{
 "cells": [
  {
   "cell_type": "code",
   "execution_count": 2,
   "metadata": {},
   "outputs": [],
   "source": [
    "# Authors: Daelon Kingore, Ashton Barnwell, Jacob Albrecht\n",
    "# Stock Market prediction using Data Mining/AI algorithms\n",
    "import pandas as pd\n",
    "import numpy as np\n",
    "from sklearn.model_selection import train_test_split\n",
    "from sklearn.preprocessing import MinMaxScaler\n",
    "\n",
    "# gather data from csv\n",
    "data = pd.read_csv('ORLY.csv')\n",
    "data = data.drop([\"Adj Close\"], axis=1) # drop adjusted close since it's the same as close for most data\n",
    "\n",
    "# split into x and y data\n",
    "x = data.loc[:, data.columns != \"Close\"]\n",
    "y = data.loc[:, data.columns == \"Close\"]\n",
    "\n",
    "# using the train test split function\n",
    "xTrain, xTest, yTrain, yTest = train_test_split(x, y, test_size=0.25, random_state=1, shuffle=True)\n"
   ]
  }
 ],
 "metadata": {
  "kernelspec": {
   "display_name": "Python 3",
   "language": "python",
   "name": "python3"
  },
  "language_info": {
   "codemirror_mode": {
    "name": "ipython",
    "version": 3
   },
   "file_extension": ".py",
   "mimetype": "text/x-python",
   "name": "python",
   "nbconvert_exporter": "python",
   "pygments_lexer": "ipython3",
   "version": "3.10.4"
  },
  "orig_nbformat": 4
 },
 "nbformat": 4,
 "nbformat_minor": 2
}
